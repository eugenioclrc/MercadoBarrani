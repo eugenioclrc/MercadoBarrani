{
 "cells": [
  {
   "cell_type": "code",
   "execution_count": 1,
   "id": "882c11d9",
   "metadata": {},
   "outputs": [],
   "source": [
    "# base point coordinates for baby jubjub\n",
    "x=int('0x0bb77a6ad63e739b4eacb2e09d6277c12ab8d8010534e0b62893f3f6bb957051',16)\n",
    "y=int('0x25797203f7a0b24925572e1cd16bf9edfce0051fb9e133774b3c257a872d7d8b',16)"
   ]
  },
  {
   "cell_type": "code",
   "execution_count": 2,
   "id": "f0dd57e6",
   "metadata": {},
   "outputs": [],
   "source": [
    "p = 21888242871839275222246405745257275088548364400416034343698204186575808495617"
   ]
  },
  {
   "cell_type": "code",
   "execution_count": 3,
   "id": "c138a792",
   "metadata": {},
   "outputs": [
    {
     "data": {
      "text/plain": [
       "True"
      ]
     },
     "execution_count": 3,
     "metadata": {},
     "output_type": "execute_result"
    }
   ],
   "source": [
    "x<p"
   ]
  },
  {
   "cell_type": "code",
   "execution_count": 4,
   "id": "b9cb2171",
   "metadata": {},
   "outputs": [
    {
     "data": {
      "text/plain": [
       "True"
      ]
     },
     "execution_count": 4,
     "metadata": {},
     "output_type": "execute_result"
    }
   ],
   "source": [
    "y<p"
   ]
  },
  {
   "cell_type": "code",
   "execution_count": 5,
   "id": "838df9b3",
   "metadata": {},
   "outputs": [],
   "source": [
    "diff = 168700*x**2 + y**2 -1 - 168696*x**2*y**2"
   ]
  },
  {
   "cell_type": "code",
   "execution_count": 6,
   "id": "a2b1c45e",
   "metadata": {},
   "outputs": [
    {
     "data": {
      "text/plain": [
       "0"
      ]
     },
     "execution_count": 6,
     "metadata": {},
     "output_type": "execute_result"
    }
   ],
   "source": [
    "diff%p # base point is indeed on the bjj curve"
   ]
  },
  {
   "cell_type": "code",
   "execution_count": 1,
   "id": "30986717",
   "metadata": {},
   "outputs": [],
   "source": [
    "order_base = 2736030358979909402780800718157159386076813972158567259200215660948447373041"
   ]
  },
  {
   "cell_type": "code",
   "execution_count": 8,
   "id": "ccbb79e5",
   "metadata": {},
   "outputs": [
    {
     "name": "stdout",
     "output_type": "stream",
     "text": [
      "2291123624948246627368989940774052753470489062495018070576418670157516550852\n"
     ]
    }
   ],
   "source": [
    "import secrets\n",
    "secret_key = secrets.randbelow(order_base)# to sample securely random integer in the interval between 0 and order_base, excluded\n",
    "# upper bound is order_base to avoid any possibility of modulo bias attack\n",
    "print(secret_key)"
   ]
  },
  {
   "cell_type": "code",
   "execution_count": 7,
   "id": "5b907315",
   "metadata": {},
   "outputs": [
    {
     "name": "stdout",
     "output_type": "stream",
     "text": [
      "2734719865355938354270841735304585029623873348870165700414760972044487721910\n"
     ]
    }
   ],
   "source": [
    "randomness = secrets.randbelow(order_base)\n",
    "print(randomness)"
   ]
  },
  {
   "cell_type": "code",
   "execution_count": 1,
   "id": "a4777036",
   "metadata": {},
   "outputs": [
    {
     "data": {
      "text/plain": [
       "943594123598"
      ]
     },
     "execution_count": 1,
     "metadata": {},
     "output_type": "execute_result"
    }
   ],
   "source": [
    "# now take a plaintext (uint40) to encrypt\n",
    "import random\n",
    "random.randint(0,2**40-1) # this will be the plaintext signal given to the circuit main.nr"
   ]
  },
  {
   "cell_type": "code",
   "execution_count": 2,
   "id": "78e4c871",
   "metadata": {},
   "outputs": [
    {
     "name": "stdout",
     "output_type": "stream",
     "text": [
      "f78559023c89207614e4677b86354a3588d443bdbe97f2b79c7c5e5affee382f\n",
      "dadb3067e6dd4e120cdb93fb4d9b2fc8af60a50ff0a68680ffc9d12a5e451f01\n"
     ]
    }
   ],
   "source": [
    "x=0x2f38eeff5a5e7c9cb7f297bebd43d488354a35867b67e4147620893c025985f7 # values returned by the circuit main.nr\n",
    "y=0x011f455e2ad1c9ff8086a6f00fa560afc82f9b4dfb93db0c124edde66730dbda # values returned by the circuit main.nr\n",
    "\n",
    "def int_to_little_endian_hex(n):\n",
    "    # Convert integer to hex\n",
    "    hex_value = hex(n)[2:]  # [2:] to remove the '0x' prefix\n",
    "\n",
    "    # Ensure hex_value is even-length\n",
    "    if len(hex_value) % 2 != 0:\n",
    "        hex_value = '0' + hex_value\n",
    "\n",
    "    # Convert to little endian\n",
    "    little_endian = ''.join([hex_value[i:i+2] for i in range(0, len(hex_value), 2)][::-1])\n",
    "    \n",
    "    # Pad with zeros if length is less than 64\n",
    "    little_endian = little_endian.ljust(64, '0')\n",
    "    return little_endian\n",
    "\n",
    "# Test\n",
    "print(int_to_little_endian_hex(x))\n",
    "print(int_to_little_endian_hex(y)) # use those values inside the babygiant Rust (main.rs) test to see if they are decoded to previous plaintext message"
   ]
  },
  {
   "cell_type": "code",
   "execution_count": null,
   "id": "bf1d9e8d",
   "metadata": {},
   "outputs": [],
   "source": []
  }
 ],
 "metadata": {
  "kernelspec": {
   "display_name": "Python 3 (ipykernel)",
   "language": "python",
   "name": "python3"
  },
  "language_info": {
   "codemirror_mode": {
    "name": "ipython",
    "version": 3
   },
   "file_extension": ".py",
   "mimetype": "text/x-python",
   "name": "python",
   "nbconvert_exporter": "python",
   "pygments_lexer": "ipython3",
   "version": "3.8.12"
  }
 },
 "nbformat": 4,
 "nbformat_minor": 5
}
